{
 "cells": [
  {
   "cell_type": "code",
   "execution_count": 44,
   "metadata": {},
   "outputs": [],
   "source": [
    "import pandas as pd\n",
    "import numpy\n",
    "import matplotlib.pyplot as plt"
   ]
  },
  {
   "cell_type": "markdown",
   "metadata": {},
   "source": [
    "# bulid dataset"
   ]
  },
  {
   "cell_type": "code",
   "execution_count": 192,
   "metadata": {},
   "outputs": [],
   "source": [
    "class_=['A','B','C','D','E','F','G']\n",
    "Drink=['Coke','Pepsi','7Up','Sprite','Latte','Espresso','Cappuccino']\n",
    "rank=[7,6,5,4,3,2,1]\n",
    "count=[200,100,100,200,100,100,200]\n",
    "amount=[(100, 200),(200, 10),(200, 10),(400, 100),(800, 10),(800, 10),(900, 400)]"
   ]
  },
  {
   "cell_type": "code",
   "execution_count": 193,
   "metadata": {},
   "outputs": [],
   "source": [
    "dic=['class','Drink','rank','count','amount','test']"
   ]
  },
  {
   "cell_type": "code",
   "execution_count": 194,
   "metadata": {},
   "outputs": [
    {
     "data": {
      "text/html": [
       "<div>\n",
       "<style scoped>\n",
       "    .dataframe tbody tr th:only-of-type {\n",
       "        vertical-align: middle;\n",
       "    }\n",
       "\n",
       "    .dataframe tbody tr th {\n",
       "        vertical-align: top;\n",
       "    }\n",
       "\n",
       "    .dataframe thead th {\n",
       "        text-align: right;\n",
       "    }\n",
       "</style>\n",
       "<table border=\"1\" class=\"dataframe\">\n",
       "  <thead>\n",
       "    <tr style=\"text-align: right;\">\n",
       "      <th></th>\n",
       "      <th>class</th>\n",
       "      <th>Drink</th>\n",
       "      <th>rank</th>\n",
       "      <th>count</th>\n",
       "      <th>amount</th>\n",
       "      <th>test</th>\n",
       "    </tr>\n",
       "  </thead>\n",
       "  <tbody>\n",
       "    <tr>\n",
       "      <th>0</th>\n",
       "      <td>A</td>\n",
       "      <td>Coke</td>\n",
       "      <td>7</td>\n",
       "      <td>200</td>\n",
       "      <td>(100, 200)</td>\n",
       "      <td>NaN</td>\n",
       "    </tr>\n",
       "    <tr>\n",
       "      <th>1</th>\n",
       "      <td>B</td>\n",
       "      <td>Pepsi</td>\n",
       "      <td>6</td>\n",
       "      <td>100</td>\n",
       "      <td>(200, 10)</td>\n",
       "      <td>NaN</td>\n",
       "    </tr>\n",
       "    <tr>\n",
       "      <th>2</th>\n",
       "      <td>C</td>\n",
       "      <td>7Up</td>\n",
       "      <td>5</td>\n",
       "      <td>100</td>\n",
       "      <td>(200, 10)</td>\n",
       "      <td>NaN</td>\n",
       "    </tr>\n",
       "    <tr>\n",
       "      <th>3</th>\n",
       "      <td>D</td>\n",
       "      <td>Sprite</td>\n",
       "      <td>4</td>\n",
       "      <td>200</td>\n",
       "      <td>(400, 100)</td>\n",
       "      <td>NaN</td>\n",
       "    </tr>\n",
       "    <tr>\n",
       "      <th>4</th>\n",
       "      <td>E</td>\n",
       "      <td>Latte</td>\n",
       "      <td>3</td>\n",
       "      <td>100</td>\n",
       "      <td>(800, 10)</td>\n",
       "      <td>NaN</td>\n",
       "    </tr>\n",
       "    <tr>\n",
       "      <th>5</th>\n",
       "      <td>F</td>\n",
       "      <td>Espresso</td>\n",
       "      <td>2</td>\n",
       "      <td>100</td>\n",
       "      <td>(800, 10)</td>\n",
       "      <td>NaN</td>\n",
       "    </tr>\n",
       "    <tr>\n",
       "      <th>6</th>\n",
       "      <td>G</td>\n",
       "      <td>Cappuccino</td>\n",
       "      <td>1</td>\n",
       "      <td>200</td>\n",
       "      <td>(900, 400)</td>\n",
       "      <td>NaN</td>\n",
       "    </tr>\n",
       "  </tbody>\n",
       "</table>\n",
       "</div>"
      ],
      "text/plain": [
       "  class       Drink  rank  count      amount test\n",
       "0     A        Coke     7    200  (100, 200)  NaN\n",
       "1     B       Pepsi     6    100   (200, 10)  NaN\n",
       "2     C         7Up     5    100   (200, 10)  NaN\n",
       "3     D      Sprite     4    200  (400, 100)  NaN\n",
       "4     E       Latte     3    100   (800, 10)  NaN\n",
       "5     F    Espresso     2    100   (800, 10)  NaN\n",
       "6     G  Cappuccino     1    200  (900, 400)  NaN"
      ]
     },
     "execution_count": 194,
     "metadata": {},
     "output_type": "execute_result"
    }
   ],
   "source": [
    "asd=pd.DataFrame(columns=dic)\n",
    "asd['class']=class_\n",
    "asd['Drink']=Drink\n",
    "asd['rank']=rank\n",
    "asd['count']=count\n",
    "asd['amount']=amount\n",
    "asd"
   ]
  },
  {
   "cell_type": "markdown",
   "metadata": {},
   "source": [
    "# 隨機產生常態分佈資料"
   ]
  },
  {
   "cell_type": "code",
   "execution_count": 195,
   "metadata": {},
   "outputs": [],
   "source": [
    "import numpy\n",
    "import matplotlib.pyplot as plt\n",
    "\n",
    "#x = numpy.random.normal(100, 200, 200)\n",
    "x=[]\n",
    "for i in range(len(count)):\n",
    "    x.append(numpy.random.normal(amount[i][0], amount[i][1], count[i]))\n",
    "    \n",
    "plt.hist(x[0], 100)\n",
    "plt.hist(x[1], 100)\n",
    "plt.hist(x[2], 100)\n",
    "plt.hist(x[3], 100)\n",
    "plt.hist(x[4], 100)\n",
    "plt.hist(x[5], 100)\n",
    "plt.hist(x[6], 100)\n",
    "\n",
    "plt.show()"
   ]
  },
  {
   "cell_type": "code",
   "execution_count": 196,
   "metadata": {},
   "outputs": [],
   "source": [
    "asd['test']=x"
   ]
  },
  {
   "cell_type": "markdown",
   "metadata": {},
   "source": [
    "# word2vec "
   ]
  },
  {
   "cell_type": "code",
   "execution_count": 272,
   "metadata": {},
   "outputs": [],
   "source": [
    "#googlennews dowload\n",
    "#沒有googlenews請下載~\n",
    "# wget -c \"https://s3.amazonaws.com/dl4j-distribution/GoogleNews-vectors-negative300.bin.gz\""
   ]
  },
  {
   "cell_type": "code",
   "execution_count": 197,
   "metadata": {},
   "outputs": [
    {
     "name": "stderr",
     "output_type": "stream",
     "text": [
      "2021-05-26 01:20:53,008 : INFO : loading projection weights from C:\\Users\\Tsai\\GoogleNews-vectors-negative300.bin\n",
      "2021-05-26 01:21:27,325 : INFO : loaded (3000000, 300) matrix from C:\\Users\\Tsai\\GoogleNews-vectors-negative300.bin\n"
     ]
    }
   ],
   "source": [
    "import gensim\n",
    "import pandas as pd\n",
    "model = gensim.models.KeyedVectors.load_word2vec_format(r'C:\\Users\\Tsai\\GoogleNews-vectors-negative300.bin', binary=True)  "
   ]
  },
  {
   "cell_type": "code",
   "execution_count": 201,
   "metadata": {},
   "outputs": [
    {
     "data": {
      "text/plain": [
       "0.14073473"
      ]
     },
     "execution_count": 201,
     "metadata": {},
     "output_type": "execute_result"
    }
   ],
   "source": [
    "vec=[]\n",
    "for i in Drink:\n",
    "    vec.append(model[i])\n",
    "#兩個類別的距離    \n",
    "y1 = model.similarity(\"Coke\", \"Cappuccino\")\n",
    "y1"
   ]
  },
  {
   "cell_type": "code",
   "execution_count": 269,
   "metadata": {},
   "outputs": [
    {
     "data": {
      "text/html": [
       "<div>\n",
       "<style scoped>\n",
       "    .dataframe tbody tr th:only-of-type {\n",
       "        vertical-align: middle;\n",
       "    }\n",
       "\n",
       "    .dataframe tbody tr th {\n",
       "        vertical-align: top;\n",
       "    }\n",
       "\n",
       "    .dataframe thead th {\n",
       "        text-align: right;\n",
       "    }\n",
       "</style>\n",
       "<table border=\"1\" class=\"dataframe\">\n",
       "  <thead>\n",
       "    <tr style=\"text-align: right;\">\n",
       "      <th></th>\n",
       "      <th>Coke</th>\n",
       "      <th>Pepsi</th>\n",
       "      <th>7Up</th>\n",
       "      <th>Sprite</th>\n",
       "      <th>Latte</th>\n",
       "      <th>Espresso</th>\n",
       "      <th>Cappuccino</th>\n",
       "    </tr>\n",
       "  </thead>\n",
       "  <tbody>\n",
       "  </tbody>\n",
       "</table>\n",
       "</div>"
      ],
      "text/plain": [
       "Empty DataFrame\n",
       "Columns: [Coke, Pepsi, 7Up, Sprite, Latte, Espresso, Cappuccino]\n",
       "Index: []"
      ]
     },
     "execution_count": 269,
     "metadata": {},
     "output_type": "execute_result"
    }
   ],
   "source": [
    "c=[]\n",
    "qwe=pd.DataFrame(columns=Drink)\n",
    "qwe"
   ]
  },
  {
   "cell_type": "code",
   "execution_count": 270,
   "metadata": {},
   "outputs": [],
   "source": [
    "#各個node之間距離之矩陣"
   ]
  },
  {
   "cell_type": "code",
   "execution_count": 271,
   "metadata": {},
   "outputs": [
    {
     "data": {
      "text/html": [
       "<div>\n",
       "<style scoped>\n",
       "    .dataframe tbody tr th:only-of-type {\n",
       "        vertical-align: middle;\n",
       "    }\n",
       "\n",
       "    .dataframe tbody tr th {\n",
       "        vertical-align: top;\n",
       "    }\n",
       "\n",
       "    .dataframe thead th {\n",
       "        text-align: right;\n",
       "    }\n",
       "</style>\n",
       "<table border=\"1\" class=\"dataframe\">\n",
       "  <thead>\n",
       "    <tr style=\"text-align: right;\">\n",
       "      <th></th>\n",
       "      <th>Coke</th>\n",
       "      <th>Pepsi</th>\n",
       "      <th>7Up</th>\n",
       "      <th>Sprite</th>\n",
       "      <th>Latte</th>\n",
       "      <th>Espresso</th>\n",
       "      <th>Cappuccino</th>\n",
       "    </tr>\n",
       "  </thead>\n",
       "  <tbody>\n",
       "    <tr>\n",
       "      <th>0</th>\n",
       "      <td>1.000000</td>\n",
       "      <td>0.616062</td>\n",
       "      <td>0.491677</td>\n",
       "      <td>0.570642</td>\n",
       "      <td>0.277807</td>\n",
       "      <td>0.199250</td>\n",
       "      <td>0.140735</td>\n",
       "    </tr>\n",
       "    <tr>\n",
       "      <th>1</th>\n",
       "      <td>0.616062</td>\n",
       "      <td>1.000000</td>\n",
       "      <td>0.460241</td>\n",
       "      <td>0.540599</td>\n",
       "      <td>0.177285</td>\n",
       "      <td>0.114409</td>\n",
       "      <td>0.180004</td>\n",
       "    </tr>\n",
       "    <tr>\n",
       "      <th>2</th>\n",
       "      <td>0.491677</td>\n",
       "      <td>0.460241</td>\n",
       "      <td>1.000000</td>\n",
       "      <td>0.539839</td>\n",
       "      <td>0.255465</td>\n",
       "      <td>0.193757</td>\n",
       "      <td>0.174528</td>\n",
       "    </tr>\n",
       "    <tr>\n",
       "      <th>3</th>\n",
       "      <td>0.570642</td>\n",
       "      <td>0.540599</td>\n",
       "      <td>0.539839</td>\n",
       "      <td>1.000000</td>\n",
       "      <td>0.269688</td>\n",
       "      <td>0.239021</td>\n",
       "      <td>0.253089</td>\n",
       "    </tr>\n",
       "    <tr>\n",
       "      <th>4</th>\n",
       "      <td>0.277807</td>\n",
       "      <td>0.177285</td>\n",
       "      <td>0.255465</td>\n",
       "      <td>0.269688</td>\n",
       "      <td>1.000000</td>\n",
       "      <td>0.548601</td>\n",
       "      <td>0.396419</td>\n",
       "    </tr>\n",
       "    <tr>\n",
       "      <th>5</th>\n",
       "      <td>0.199250</td>\n",
       "      <td>0.114409</td>\n",
       "      <td>0.193757</td>\n",
       "      <td>0.239021</td>\n",
       "      <td>0.548601</td>\n",
       "      <td>1.000000</td>\n",
       "      <td>0.447165</td>\n",
       "    </tr>\n",
       "    <tr>\n",
       "      <th>6</th>\n",
       "      <td>0.140735</td>\n",
       "      <td>0.180004</td>\n",
       "      <td>0.174528</td>\n",
       "      <td>0.253089</td>\n",
       "      <td>0.396419</td>\n",
       "      <td>0.447165</td>\n",
       "      <td>1.000000</td>\n",
       "    </tr>\n",
       "  </tbody>\n",
       "</table>\n",
       "</div>"
      ],
      "text/plain": [
       "       Coke     Pepsi       7Up    Sprite     Latte  Espresso  Cappuccino\n",
       "0  1.000000  0.616062  0.491677  0.570642  0.277807  0.199250    0.140735\n",
       "1  0.616062  1.000000  0.460241  0.540599  0.177285  0.114409    0.180004\n",
       "2  0.491677  0.460241  1.000000  0.539839  0.255465  0.193757    0.174528\n",
       "3  0.570642  0.540599  0.539839  1.000000  0.269688  0.239021    0.253089\n",
       "4  0.277807  0.177285  0.255465  0.269688  1.000000  0.548601    0.396419\n",
       "5  0.199250  0.114409  0.193757  0.239021  0.548601  1.000000    0.447165\n",
       "6  0.140735  0.180004  0.174528  0.253089  0.396419  0.447165    1.000000"
      ]
     },
     "execution_count": 271,
     "metadata": {},
     "output_type": "execute_result"
    }
   ],
   "source": [
    "for i in range(len(Drink)):\n",
    "    for j in range(len(Drink)):\n",
    "        #qwe[Drink[i]]\n",
    "        c.append(model.similarity(Drink[i],Drink[j]))\n",
    "    #print(qwe[Drink[i]])\n",
    "    qwe[Drink[i]]=c\n",
    "    c=[]\n",
    "qwe"
   ]
  },
  {
   "cell_type": "code",
   "execution_count": null,
   "metadata": {},
   "outputs": [],
   "source": []
  },
  {
   "cell_type": "code",
   "execution_count": null,
   "metadata": {},
   "outputs": [],
   "source": []
  }
 ],
 "metadata": {
  "kernelspec": {
   "display_name": "Python 3",
   "language": "python",
   "name": "python3"
  },
  "language_info": {
   "codemirror_mode": {
    "name": "ipython",
    "version": 3
   },
   "file_extension": ".py",
   "mimetype": "text/x-python",
   "name": "python",
   "nbconvert_exporter": "python",
   "pygments_lexer": "ipython3",
   "version": "3.8.5"
  }
 },
 "nbformat": 4,
 "nbformat_minor": 4
}
